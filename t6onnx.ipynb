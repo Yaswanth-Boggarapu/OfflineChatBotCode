{
 "cells": [
  {
   "cell_type": "code",
   "execution_count": 1,
   "metadata": {},
   "outputs": [
    {
     "name": "stderr",
     "output_type": "stream",
     "text": [
      "/Users/yash/Library/Python/3.12/lib/python/site-packages/tqdm/auto.py:21: TqdmWarning: IProgress not found. Please update jupyter and ipywidgets. See https://ipywidgets.readthedocs.io/en/stable/user_install.html\n",
      "  from .autonotebook import tqdm as notebook_tqdm\n",
      "You are using the default legacy behaviour of the <class 'transformers.models.t5.tokenization_t5.T5Tokenizer'>. This is expected, and simply means that the `legacy` (previous) behavior will be used so nothing changes for you. If you want to use the new behaviour, set `legacy=False`. This should only be set if you understand what it means, and thoroughly read the reason why this was added as explained in https://github.com/huggingface/transformers/pull/24565\n"
     ]
    },
    {
     "name": "stdout",
     "output_type": "stream",
     "text": [
      "Tell me about the Rava Kichadi Context: A healthy breakfast option made with semolina and vegetables lightly tempered with spices cooked to perfection.\n"
     ]
    }
   ],
   "source": [
    "import json\n",
    "from transformers import T5ForConditionalGeneration, T5Tokenizer\n",
    "from rank_bm25 import BM25Okapi\n",
    "import torch\n",
    "\n",
    "# Load T5 model and tokenizer\n",
    "model_name = \"t5-small\"\n",
    "tokenizer = T5Tokenizer.from_pretrained(model_name)\n",
    "model = T5ForConditionalGeneration.from_pretrained(model_name)\n",
    "\n",
    "# Load menu data\n",
    "with open('mockMenu 1.json', 'r') as f:\n",
    "    menu_data = json.load(f)['menu']\n",
    "\n",
    "# Load intent data\n",
    "with open('intent.json', 'r') as f:\n",
    "    intent_data = json.load(f)['intents']\n",
    "\n",
    "# Step 1: Prepare the corpus for BM25 (combine 'itemName' and 'description' fields)\n",
    "corpus = [\n",
    "    (item['itemName'] + \" \" + (item['description'] if item['description'] else \"\"))\n",
    "    for item in menu_data\n",
    "]\n",
    "\n",
    "# Initialize BM25 with the corpus\n",
    "bm25 = BM25Okapi([doc.split() for doc in corpus])\n",
    "\n",
    "# Step 2: Intent Recognition using T5\n",
    "def classify_intent_with_t5(query):\n",
    "    input_text = f\"classify intent: {query}\"\n",
    "    inputs = tokenizer.encode(input_text, return_tensors=\"pt\", max_length=512, truncation=True)\n",
    "    outputs = model.generate(inputs, max_length=20, num_beams=2)\n",
    "    intent = tokenizer.decode(outputs[0], skip_special_tokens=True).strip()\n",
    "    return intent\n",
    "\n",
    "# Step 3: Document Retrieval with BM25\n",
    "def retrieve_document(query):\n",
    "    # Exact match: first check if the menu item name directly matches the query\n",
    "    for item in menu_data:\n",
    "        if item['itemName'].lower() in query.lower():\n",
    "            return item\n",
    "    \n",
    "    # If no exact match, use BM25 for ranking\n",
    "    tokenized_query = query.split()\n",
    "    doc_scores = bm25.get_scores(tokenized_query)\n",
    "    top_doc_index = torch.argmax(torch.tensor(doc_scores)).item()\n",
    "    retrieved_item = menu_data[top_doc_index]\n",
    "    return retrieved_item\n",
    "\n",
    "# Step 4: Find Minimum Prep Time Dish\n",
    "def find_min_prep_time_dish():\n",
    "    min_item = min(menu_data, key=lambda x: int(x['prepTimeInMins']))\n",
    "    return min_item\n",
    "\n",
    "# Step 5: Handle Query Based on Intent and Menu Data\n",
    "def handle_query(query):\n",
    "    # First classify the intent of the query\n",
    "    intent = classify_intent_with_t5(query)\n",
    "    \n",
    "    # Match the intent with known intents in the intent data\n",
    "    matching_intent = None\n",
    "    for intent_info in intent_data:\n",
    "        if any(example.lower() in query.lower() for example in intent_info['examples']):\n",
    "            matching_intent = intent_info['intent']\n",
    "            break\n",
    "    \n",
    "    # Generate response based on classified intent\n",
    "    if matching_intent == \"MenuItemDetails\":\n",
    "        retrieved_item = retrieve_document(query)\n",
    "        response = f\"{retrieved_item['itemName']} is described as: {retrieved_item.get('description', 'No description available')}.\"\n",
    "    elif matching_intent == \"PricingInquiry\":\n",
    "        retrieved_item = retrieve_document(query)\n",
    "        response = f\"The price of {retrieved_item['itemName']} is ${retrieved_item['price']}.\"\n",
    "    elif matching_intent == \"AllergenInquiry\":\n",
    "        retrieved_item = retrieve_document(query)\n",
    "        allergens = retrieved_item.get('allergicInfo', '').upper()\n",
    "        response = f\"Allergens for {retrieved_item['itemName']}: {allergens}\" if allergens else f\"No allergen information for {retrieved_item['itemName']}.\"\n",
    "    elif matching_intent == \"WaitTimeInquiry\":\n",
    "        min_dish = find_min_prep_time_dish()\n",
    "        response = f\"The dish with the least prep time is {min_dish['itemName']} with a prep time of {min_dish['prepTimeInMins']} minutes.\"\n",
    "    else:\n",
    "        # Fallback to a general response using T5 generation\n",
    "        retrieved_item = retrieve_document(query)\n",
    "        input_text = f\"generate response: {query} Context: {retrieved_item.get('description', 'No description available')}.\"\n",
    "        inputs = tokenizer.encode(input_text, return_tensors=\"pt\", max_length=512, truncation=True)\n",
    "        outputs = model.generate(inputs, max_length=50, num_beams=5, early_stopping=True)\n",
    "        response = tokenizer.decode(outputs[0], skip_special_tokens=True)\n",
    "    \n",
    "    return response\n",
    "\n",
    "# Example usage\n",
    "query = \"Tell me about the Rava Kichadi\"\n",
    "response = handle_query(query)\n",
    "print(response)\n"
   ]
  },
  {
   "cell_type": "code",
   "execution_count": 3,
   "metadata": {},
   "outputs": [
    {
     "name": "stdout",
     "output_type": "stream",
     "text": [
      "Model has been saved to 'intent_model.pkl'\n"
     ]
    }
   ],
   "source": [
    "import pickle\n",
    "\n",
    "# Save the model to a file using pickle\n",
    "with open('intent_model.pkl', 'wb') as f:\n",
    "    pickle.dump(model, f)\n",
    "\n",
    "print(\"Model has been saved to 'intent_model.pkl'\")\n"
   ]
  },
  {
   "cell_type": "code",
   "execution_count": 2,
   "metadata": {},
   "outputs": [
    {
     "name": "stdout",
     "output_type": "stream",
     "text": [
      "rava kichidi? Context: Idly, medhu vadai, ghee Pongal, rava kichidi & mini dosai served with\n"
     ]
    }
   ],
   "source": [
    "query2 = \"The price of rava kichidi?\"\n",
    "response2 = handle_query(query2)\n",
    "print(response2)"
   ]
  },
  {
   "cell_type": "code",
   "execution_count": 8,
   "metadata": {},
   "outputs": [
    {
     "ename": "AttributeError",
     "evalue": "'T5ForConditionalGeneration' object has no attribute 'output_names'",
     "output_type": "error",
     "traceback": [
      "\u001b[0;31m---------------------------------------------------------------------------\u001b[0m",
      "\u001b[0;31mAttributeError\u001b[0m                            Traceback (most recent call last)",
      "Cell \u001b[0;32mIn[8], line 9\u001b[0m\n\u001b[1;32m      6\u001b[0m output_path \u001b[38;5;241m=\u001b[39m \u001b[38;5;124m\"\u001b[39m\u001b[38;5;124mmodel.onnx\u001b[39m\u001b[38;5;124m\"\u001b[39m\n\u001b[1;32m      8\u001b[0m \u001b[38;5;66;03m# Convert the model\u001b[39;00m\n\u001b[0;32m----> 9\u001b[0m model_proto, _ \u001b[38;5;241m=\u001b[39m \u001b[43mtf2onnx\u001b[49m\u001b[38;5;241;43m.\u001b[39;49m\u001b[43mconvert\u001b[49m\u001b[38;5;241;43m.\u001b[39;49m\u001b[43mfrom_keras\u001b[49m\u001b[43m(\u001b[49m\u001b[43mmodel\u001b[49m\u001b[43m,\u001b[49m\u001b[43m \u001b[49m\u001b[43minput_signature\u001b[49m\u001b[38;5;241;43m=\u001b[39;49m\u001b[43mspec\u001b[49m\u001b[43m)\u001b[49m\n\u001b[1;32m     11\u001b[0m \u001b[38;5;66;03m# Save the ONNX model\u001b[39;00m\n\u001b[1;32m     12\u001b[0m \u001b[38;5;28;01mwith\u001b[39;00m \u001b[38;5;28mopen\u001b[39m(output_path, \u001b[38;5;124m\"\u001b[39m\u001b[38;5;124mwb\u001b[39m\u001b[38;5;124m\"\u001b[39m) \u001b[38;5;28;01mas\u001b[39;00m f:\n",
      "File \u001b[0;32m/opt/homebrew/lib/python3.12/site-packages/tf2onnx/convert.py:442\u001b[0m, in \u001b[0;36mfrom_keras\u001b[0;34m(model, input_signature, opset, custom_ops, custom_op_handlers, custom_rewriter, inputs_as_nchw, outputs_as_nchw, extra_opset, shape_override, target, large_model, output_path, optimizers)\u001b[0m\n\u001b[1;32m    438\u001b[0m \u001b[38;5;28;01mif\u001b[39;00m get_tf_version() \u001b[38;5;241m<\u001b[39m Version(\u001b[38;5;124m\"\u001b[39m\u001b[38;5;124m2.0\u001b[39m\u001b[38;5;124m\"\u001b[39m):\n\u001b[1;32m    439\u001b[0m     \u001b[38;5;28;01mreturn\u001b[39;00m _from_keras_tf1(model, opset, custom_ops, custom_op_handlers, custom_rewriter, inputs_as_nchw,\n\u001b[1;32m    440\u001b[0m                            outputs_as_nchw, extra_opset, shape_override, target, large_model, output_path)\n\u001b[0;32m--> 442\u001b[0m old_out_names \u001b[38;5;241m=\u001b[39m \u001b[43m_rename_duplicate_keras_model_names\u001b[49m\u001b[43m(\u001b[49m\u001b[43mmodel\u001b[49m\u001b[43m)\u001b[49m\n\u001b[1;32m    443\u001b[0m \u001b[38;5;28;01mfrom\u001b[39;00m \u001b[38;5;21;01mtensorflow\u001b[39;00m\u001b[38;5;21;01m.\u001b[39;00m\u001b[38;5;21;01mpython\u001b[39;00m\u001b[38;5;21;01m.\u001b[39;00m\u001b[38;5;21;01mkeras\u001b[39;00m\u001b[38;5;21;01m.\u001b[39;00m\u001b[38;5;21;01msaving\u001b[39;00m \u001b[38;5;28;01mimport\u001b[39;00m saving_utils \u001b[38;5;28;01mas\u001b[39;00m _saving_utils \u001b[38;5;66;03m# pylint: disable=import-outside-toplevel\u001b[39;00m\n\u001b[1;32m    445\u001b[0m \u001b[38;5;66;03m# let tensorflow do the checking if model is a valid model\u001b[39;00m\n",
      "File \u001b[0;32m/opt/homebrew/lib/python3.12/site-packages/tf2onnx/convert.py:331\u001b[0m, in \u001b[0;36m_rename_duplicate_keras_model_names\u001b[0;34m(model)\u001b[0m\n\u001b[1;32m    325\u001b[0m \u001b[38;5;250m\u001b[39m\u001b[38;5;124;03m\"\"\"\u001b[39;00m\n\u001b[1;32m    326\u001b[0m \u001b[38;5;124;03mIn very rare cases, keras has a bug where it will give multiple outputs the same name.\u001b[39;00m\n\u001b[1;32m    327\u001b[0m \u001b[38;5;124;03mWe must edit the model or the TF trace will fail. Returns old_out_names (or None if no edit was made).\u001b[39;00m\n\u001b[1;32m    328\u001b[0m \u001b[38;5;124;03mIMPORTANT: model may be edited. Assign model.output_names to old_out_names to restore.\u001b[39;00m\n\u001b[1;32m    329\u001b[0m \u001b[38;5;124;03m\"\"\"\u001b[39;00m\n\u001b[1;32m    330\u001b[0m old_out_names \u001b[38;5;241m=\u001b[39m \u001b[38;5;28;01mNone\u001b[39;00m\n\u001b[0;32m--> 331\u001b[0m \u001b[38;5;28;01mif\u001b[39;00m \u001b[43mmodel\u001b[49m\u001b[38;5;241;43m.\u001b[39;49m\u001b[43moutput_names\u001b[49m \u001b[38;5;129;01mand\u001b[39;00m \u001b[38;5;28mlen\u001b[39m(\u001b[38;5;28mset\u001b[39m(model\u001b[38;5;241m.\u001b[39moutput_names)) \u001b[38;5;241m!=\u001b[39m \u001b[38;5;28mlen\u001b[39m(model\u001b[38;5;241m.\u001b[39moutput_names):\n\u001b[1;32m    332\u001b[0m     \u001b[38;5;66;03m# In very rare cases, keras has a bug where it will give multiple outputs the same name\u001b[39;00m\n\u001b[1;32m    333\u001b[0m     \u001b[38;5;66;03m# We must edit the model or the TF trace will fail\u001b[39;00m\n\u001b[1;32m    334\u001b[0m     old_out_names \u001b[38;5;241m=\u001b[39m model\u001b[38;5;241m.\u001b[39moutput_names\n\u001b[1;32m    335\u001b[0m     used_names \u001b[38;5;241m=\u001b[39m \u001b[38;5;28mset\u001b[39m()\n",
      "File \u001b[0;32m~/Library/Python/3.12/lib/python/site-packages/torch/nn/modules/module.py:1729\u001b[0m, in \u001b[0;36mModule.__getattr__\u001b[0;34m(self, name)\u001b[0m\n\u001b[1;32m   1727\u001b[0m     \u001b[38;5;28;01mif\u001b[39;00m name \u001b[38;5;129;01min\u001b[39;00m modules:\n\u001b[1;32m   1728\u001b[0m         \u001b[38;5;28;01mreturn\u001b[39;00m modules[name]\n\u001b[0;32m-> 1729\u001b[0m \u001b[38;5;28;01mraise\u001b[39;00m \u001b[38;5;167;01mAttributeError\u001b[39;00m(\u001b[38;5;124mf\u001b[39m\u001b[38;5;124m\"\u001b[39m\u001b[38;5;124m'\u001b[39m\u001b[38;5;132;01m{\u001b[39;00m\u001b[38;5;28mtype\u001b[39m(\u001b[38;5;28mself\u001b[39m)\u001b[38;5;241m.\u001b[39m\u001b[38;5;18m__name__\u001b[39m\u001b[38;5;132;01m}\u001b[39;00m\u001b[38;5;124m'\u001b[39m\u001b[38;5;124m object has no attribute \u001b[39m\u001b[38;5;124m'\u001b[39m\u001b[38;5;132;01m{\u001b[39;00mname\u001b[38;5;132;01m}\u001b[39;00m\u001b[38;5;124m'\u001b[39m\u001b[38;5;124m\"\u001b[39m)\n",
      "\u001b[0;31mAttributeError\u001b[0m: 'T5ForConditionalGeneration' object has no attribute 'output_names'"
     ]
    }
   ],
   "source": [
    "import tf2onnx\n",
    "import tensorflow as tf\n",
    "\n",
    "# Assuming 'model' is your trained TensorFlow/Keras model\n",
    "spec = (tf.TensorSpec((None, 512), tf.float32, name=\"input\"),)\n",
    "output_path = \"model.onnx\"\n",
    "\n",
    "# Convert the model\n",
    "model_proto, _ = tf2onnx.convert.from_keras(model, input_signature=spec)\n",
    "\n",
    "# Save the ONNX model\n",
    "with open(output_path, \"wb\") as f:\n",
    "    f.write(model_proto.SerializeToString())\n",
    "\n",
    "print(\"Keras model has been converted to ONNX format.\")\n"
   ]
  }
 ],
 "metadata": {
  "kernelspec": {
   "display_name": "Python 3",
   "language": "python",
   "name": "python3"
  },
  "language_info": {
   "codemirror_mode": {
    "name": "ipython",
    "version": 3
   },
   "file_extension": ".py",
   "mimetype": "text/x-python",
   "name": "python",
   "nbconvert_exporter": "python",
   "pygments_lexer": "ipython3",
   "version": "3.12.6"
  }
 },
 "nbformat": 4,
 "nbformat_minor": 2
}
