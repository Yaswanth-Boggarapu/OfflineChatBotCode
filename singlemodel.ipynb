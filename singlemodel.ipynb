{
 "cells": [
  {
   "cell_type": "code",
   "execution_count": 4,
   "metadata": {},
   "outputs": [],
   "source": [
    "import json\n",
    "from transformers import T5ForConditionalGeneration, T5Tokenizer\n",
    "from rank_bm25 import BM25Okapi\n",
    "import torch\n",
    "\n",
    "# Load T5 model and tokenizer\n",
    "model_name = \"t5-small\"\n",
    "tokenizer = T5Tokenizer.from_pretrained(model_name)\n",
    "model = T5ForConditionalGeneration.from_pretrained(model_name)\n",
    "\n",
    "# Load menu data from the uploaded file\n",
    "with open('mockMenu 1.json', 'r') as f:\n",
    "    menu_data = json.load(f)['menu']\n",
    "\n",
    "# Step 1: Prepare the corpus for BM25 by combining 'itemName' and 'description' fields\n",
    "corpus = [\n",
    "    (item['itemName'] + \" \" + (item['description'] if item['description'] else \"\"))\n",
    "    for item in menu_data\n",
    "]\n",
    "\n",
    "# Initialize BM25 with the corpus\n",
    "bm25 = BM25Okapi([doc.split() for doc in corpus])\n",
    "\n",
    "### Step 2: Intent Recognition using T5 ###\n",
    "def classify_intent_with_t5(query):\n",
    "    input_text = f\"classify intent: {query}\"\n",
    "    inputs = tokenizer.encode(input_text, return_tensors=\"pt\", max_length=512, truncation=True)\n",
    "    outputs = model.generate(inputs, max_length=20, num_beams=2)\n",
    "    intent = tokenizer.decode(outputs[0], skip_special_tokens=True).strip()\n",
    "    return intent\n",
    "\n",
    "### Step 3: Document Retrieval with BM25 ###\n",
    "def retrieve_document(query):\n",
    "    # Exact match: first check if the menu item name directly matches the query\n",
    "    for item in menu_data:\n",
    "        if item['itemName'].lower() in query.lower():\n",
    "            return item\n",
    "    \n",
    "    # If no exact match, use BM25 for ranking\n",
    "    tokenized_query = query.split()\n",
    "    doc_scores = bm25.get_scores(tokenized_query)\n",
    "    top_doc_index = torch.argmax(torch.tensor(doc_scores)).item()\n",
    "    retrieved_item = menu_data[top_doc_index]\n",
    "    return retrieved_item\n",
    "\n",
    "### Step 4: Find Minimum Prep Time Dish ###\n",
    "def find_min_prep_time_dish():\n",
    "    min_item = min(menu_data, key=lambda x: int(x['prepTimeInMins']))\n",
    "    return min_item\n",
    "\n",
    "### Step 5: Generate Response based on Query ###\n",
    "def generate_response_with_t5(query):\n",
    "    if 'description' in query.lower():\n",
    "        # Retrieve the correct item based on the query\n",
    "        retrieved_item = retrieve_document(query)\n",
    "        response = f\"{retrieved_item['itemName']} is described as: {retrieved_item['description']}.\"\n",
    "    elif 'price' in query.lower():\n",
    "        retrieved_item = retrieve_document(query)\n",
    "        response = f\"The price of {retrieved_item['itemName']} is ${retrieved_item['price']}.\"\n",
    "    elif 'allergy' in query.lower() or 'nuts' in query.lower():\n",
    "        retrieved_item = retrieve_document(query)\n",
    "        allergens = retrieved_item['allergicInfo'].upper()\n",
    "        if 'NUTS' in allergens:\n",
    "            response = f\"Yes, {retrieved_item['itemName']} contains nuts.\"\n",
    "        else:\n",
    "            response = f\"No, {retrieved_item['itemName']} does not contain nuts.\"\n",
    "    elif 'least prep time' in query.lower() or 'min prep time' in query.lower():\n",
    "        min_dish = find_min_prep_time_dish()\n",
    "        response = f\"The dish with the least prep time is {min_dish['itemName']} with a prep time of {min_dish['prepTimeInMins']} minutes.\"\n",
    "    else:\n",
    "        # Fallback to a general response using T5 generation\n",
    "        retrieved_item = retrieve_document(query)\n",
    "        input_text = f\"generate response: {query} Context: {retrieved_item['description']}.\"\n",
    "        inputs = tokenizer.encode(input_text, return_tensors=\"pt\", max_length=512, truncation=True)\n",
    "        outputs = model.generate(inputs, max_length=50, num_beams=5, early_stopping=True)\n",
    "        response = tokenizer.decode(outputs[0], skip_special_tokens=True)\n",
    "    return response\n"
   ]
  },
  {
   "cell_type": "markdown",
   "metadata": {},
   "source": [
    "# Question 1"
   ]
  },
  {
   "cell_type": "code",
   "execution_count": 5,
   "metadata": {},
   "outputs": [
    {
     "name": "stdout",
     "output_type": "stream",
     "text": [
      "{\n",
      "    \"intent\": \"Drink something hot\",\n",
      "    \"response\": \"Drink something hot Context: Drink something hot Context: A healthy breakfast option made with semolina and vegetables lightly tempered with spices cooked to perfection.\"\n",
      "}\n"
     ]
    }
   ],
   "source": [
    "\n",
    "### Main Flow ###\n",
    "input_json = '''\n",
    "{\n",
    "    \"query\": \"Drink something hot\"\n",
    "}\n",
    "'''\n",
    "\n",
    "# Parse input JSON\n",
    "input_data = json.loads(input_json)\n",
    "query = input_data['query']\n",
    "\n",
    "# Step 1: Classify the intent using T5\n",
    "intent = classify_intent_with_t5(query)\n",
    "\n",
    "# Step 2: Generate the response based on the query\n",
    "response = generate_response_with_t5(query)\n",
    "\n",
    "# Output the result in JSON format\n",
    "output_json = {\n",
    "    'intent': intent,\n",
    "    \"response\": response\n",
    "}\n",
    "\n",
    "# Print the output in JSON format\n",
    "output = json.dumps(output_json, indent=4)\n",
    "print(output)"
   ]
  },
  {
   "cell_type": "markdown",
   "metadata": {},
   "source": [
    "# Question 2"
   ]
  },
  {
   "cell_type": "code",
   "execution_count": 6,
   "metadata": {},
   "outputs": [
    {
     "name": "stdout",
     "output_type": "stream",
     "text": [
      "{\n",
      "    \"intent\": \"Poss\",\n",
      "    \"response\": \"Context: A healthy breakfast option made with semolina and vegetables lightly tempered with spices cooked to perfection Context: A healthy breakfast option made with semolina and vegetables lightly tempered with spices cooked to perfection.\"\n",
      "}\n"
     ]
    }
   ],
   "source": [
    "\n",
    "### Main Flow ###\n",
    "input_json = '''\n",
    "{\n",
    "    \"query\": \"Do you offer any child friendly dishes\"\n",
    "}\n",
    "'''\n",
    "\n",
    "# Parse input JSON\n",
    "input_data = json.loads(input_json)\n",
    "query = input_data['query']\n",
    "\n",
    "# Step 1: Classify the intent using T5\n",
    "intent = classify_intent_with_t5(query)\n",
    "\n",
    "# Step 2: Generate the response based on the query\n",
    "response = generate_response_with_t5(query)\n",
    "\n",
    "# Output the result in JSON format\n",
    "output_json = {\n",
    "    'intent': intent,\n",
    "    \"response\": response\n",
    "}\n",
    "\n",
    "# Print the output in JSON format\n",
    "output = json.dumps(output_json, indent=4)\n",
    "print(output)"
   ]
  },
  {
   "cell_type": "markdown",
   "metadata": {},
   "source": [
    "# Question 3"
   ]
  },
  {
   "cell_type": "code",
   "execution_count": 7,
   "metadata": {},
   "outputs": [
    {
     "name": "stdout",
     "output_type": "stream",
     "text": [
      "{\n",
      "    \"intent\": \"classify intent: Recommend something for fever\",\n",
      "    \"response\": \"Recommend something for fever Context: Extra side for poori, dosa.\"\n",
      "}\n"
     ]
    }
   ],
   "source": [
    "\n",
    "### Main Flow ###\n",
    "input_json = '''\n",
    "{\n",
    "    \"query\": \"Recommend something for fever\"\n",
    "}\n",
    "'''\n",
    "\n",
    "# Parse input JSON\n",
    "input_data = json.loads(input_json)\n",
    "query = input_data['query']\n",
    "\n",
    "# Step 1: Classify the intent using T5\n",
    "intent = classify_intent_with_t5(query)\n",
    "\n",
    "# Step 2: Generate the response based on the query\n",
    "response = generate_response_with_t5(query)\n",
    "\n",
    "# Output the result in JSON format\n",
    "output_json = {\n",
    "    'intent': intent,\n",
    "    \"response\": response\n",
    "}\n",
    "\n",
    "# Print the output in JSON format\n",
    "output = json.dumps(output_json, indent=4)\n",
    "print(output)"
   ]
  },
  {
   "cell_type": "code",
   "execution_count": 8,
   "metadata": {},
   "outputs": [
    {
     "name": "stdout",
     "output_type": "stream",
     "text": [
      "{\n",
      "    \"intent\": \"Vegan dishes\",\n",
      "    \"response\": \"Vegan dishes Context: A healthy breakfast option made with semolina and vegetables lightly tempered with spices cooked to perfection.\"\n",
      "}\n"
     ]
    }
   ],
   "source": [
    "\n",
    "### Main Flow ###\n",
    "input_json = '''\n",
    "{\n",
    "    \"query\": \"Vegan dishes\"\n",
    "}\n",
    "'''\n",
    "\n",
    "# Parse input JSON\n",
    "input_data = json.loads(input_json)\n",
    "query = input_data['query']\n",
    "\n",
    "# Step 1: Classify the intent using T5\n",
    "intent = classify_intent_with_t5(query)\n",
    "\n",
    "# Step 2: Generate the response based on the query\n",
    "response = generate_response_with_t5(query)\n",
    "\n",
    "# Output the result in JSON format\n",
    "output_json = {\n",
    "    'intent': intent,\n",
    "    \"response\": response\n",
    "}\n",
    "\n",
    "# Print the output in JSON format\n",
    "output = json.dumps(output_json, indent=4)\n",
    "print(output)"
   ]
  },
  {
   "cell_type": "markdown",
   "metadata": {},
   "source": [
    "# Modified"
   ]
  },
  {
   "cell_type": "code",
   "execution_count": 14,
   "metadata": {},
   "outputs": [],
   "source": [
    "import json\n",
    "from transformers import T5ForConditionalGeneration, T5Tokenizer\n",
    "from rank_bm25 import BM25Okapi\n",
    "import torch\n",
    "\n",
    "# Load T5 model and tokenizer\n",
    "model_name = \"t5-small\"\n",
    "tokenizer = T5Tokenizer.from_pretrained(model_name)\n",
    "model = T5ForConditionalGeneration.from_pretrained(model_name)\n",
    "\n",
    "# Load menu data from the uploaded file\n",
    "with open('mockMenu 1.json', 'r') as f:\n",
    "    menu_data = json.load(f)['menu']\n",
    "\n",
    "# Prepare the corpus for BM25 by combining 'itemName' and 'description' fields\n",
    "corpus = [\n",
    "    (item['itemName'] + \" \" + (item.get('description', '') if item.get('description') else \"\"))\n",
    "    for item in menu_data\n",
    "]\n",
    "\n",
    "# Initialize BM25 with the corpus\n",
    "bm25 = BM25Okapi([doc.split() for doc in corpus])\n",
    "\n",
    "### Step 1: Intent Classification ###\n",
    "def classify_intent_with_t5(query):\n",
    "    input_text = f\"classify intent: {query}\"\n",
    "    inputs = tokenizer.encode(input_text, return_tensors=\"pt\", max_length=512, truncation=True)\n",
    "    outputs = model.generate(inputs, max_length=20, num_beams=2)\n",
    "    intent = tokenizer.decode(outputs[0], skip_special_tokens=True).strip()\n",
    "    return intent\n",
    "\n",
    "### Step 2: Document Retrieval ###\n",
    "def retrieve_document(query):\n",
    "    # Exact match: check if the menu item name directly matches the query\n",
    "    for item in menu_data:\n",
    "        if item['itemName'].lower() in query.lower():\n",
    "            return item\n",
    "    \n",
    "    # If no exact match, use BM25 for ranking\n",
    "    tokenized_query = query.split()\n",
    "    doc_scores = bm25.get_scores(tokenized_query)\n",
    "    top_doc_index = torch.argmax(torch.tensor(doc_scores)).item()\n",
    "    retrieved_item = menu_data[top_doc_index]\n",
    "    return retrieved_item\n",
    "\n",
    "### Step 3: Find Minimum Prep Time Dish ###\n",
    "def find_min_prep_time_dish():\n",
    "    min_item = min(menu_data, key=lambda x: int(x['prepTimeInMins']))\n",
    "    return min_item\n",
    "\n",
    "### Step 4: Filter Dishes Based on Keywords in Description ###\n",
    "def get_spicy_dishes_for_fever():\n",
    "    spicy_dishes = []\n",
    "    for item in menu_data:\n",
    "        description = item.get('description', '') or ''\n",
    "        if 'spicy' in description.lower():\n",
    "            spicy_dishes.append(item)\n",
    "    return spicy_dishes\n",
    "\n",
    "### Step 5: Filter Kids-Friendly Dishes ###\n",
    "def get_kids_friendly_dishes():\n",
    "    kids_friendly_dishes = [item for item in menu_data if item.get('kidsFriendly') == True]\n",
    "    return kids_friendly_dishes\n",
    "\n",
    "### Step 4: Filter Vegan Dishes ###\n",
    "def get_vegan_dishes():\n",
    "    vegan_dishes = []\n",
    "    for item in menu_data:\n",
    "        # Check if 'itemFilter' exists and contains the 'Vegan' filter\n",
    "        item_filters = item.get('itemFilter', [])\n",
    "        is_vegan = any(\n",
    "            filter_item.get('name', '').lower() == 'vegan'\n",
    "            for filter_item in item_filters\n",
    "        )\n",
    "        \n",
    "        if is_vegan:\n",
    "            vegan_dishes.append(item)\n",
    "    \n",
    "    return vegan_dishes\n",
    "\n",
    "### Step 6: Generate Response ###\n",
    "def generate_response_with_t5(query):\n",
    "    query_lower = query.lower()\n",
    "    \n",
    "    if 'description' in query_lower:\n",
    "        retrieved_item = retrieve_document(query)\n",
    "        response = f\"{retrieved_item['itemName']} is described as: {retrieved_item['description']}.\"\n",
    "    elif 'price' in query_lower:\n",
    "        retrieved_item = retrieve_document(query)\n",
    "        response = f\"The price of {retrieved_item['itemName']} is ${retrieved_item['price']}.\"\n",
    "    elif 'allergy' in query_lower or 'nuts' in query_lower:\n",
    "        retrieved_item = retrieve_document(query)\n",
    "        allergens = retrieved_item['allergicInfo'].upper()\n",
    "        if 'NUTS' in allergens:\n",
    "            response = f\"Yes, {retrieved_item['itemName']} contains nuts.\"\n",
    "        else:\n",
    "            response = f\"No, {retrieved_item['itemName']} does not contain nuts.\"\n",
    "    elif 'least prep time' in query_lower or 'min prep time' in query_lower:\n",
    "        min_dish = find_min_prep_time_dish()\n",
    "        response = f\"The dish with the least prep time is {min_dish['itemName']} with a prep time of {min_dish['prepTimeInMins']} minutes.\"\n",
    "    elif 'spicy' in query_lower or 'fever' in query_lower:\n",
    "        spicy_dishes = get_spicy_dishes_for_fever()\n",
    "        if spicy_dishes:\n",
    "            spicy_dish_names = [dish['itemName'] for dish in spicy_dishes]\n",
    "            response = f\"Here are some spicy dishes suitable for fever: {', '.join(spicy_dish_names)}.\"\n",
    "        else:\n",
    "            response = \"Sorry, there are no spicy dishes available.\"\n",
    "    elif 'kids-friendly' in query_lower:\n",
    "        kids_friendly_dishes = get_kids_friendly_dishes()\n",
    "        if kids_friendly_dishes:\n",
    "            kids_friendly_dish_names = [dish['itemName'] for dish in kids_friendly_dishes]\n",
    "            response = f\"Here are some kids-friendly dishes: {', '.join(kids_friendly_dish_names)}.\"\n",
    "        else:\n",
    "            response = \"Sorry, there are no kids-friendly dishes available.\"\n",
    "    elif 'vegan' in query_lower:\n",
    "        vegan_dishes = get_vegan_dishes()\n",
    "        if vegan_dishes:\n",
    "            vegan_dish_names = [dish['itemName'] for dish in vegan_dishes]\n",
    "            response = f\"Here are some vegan dishes: {', '.join(vegan_dish_names)}.\"\n",
    "        else:\n",
    "            response = \"Sorry, there are no vegan dishes available.\"\n",
    "    else:\n",
    "        # Fallback to general response using T5 generation\n",
    "        retrieved_item = retrieve_document(query)\n",
    "        input_text = f\"generate response: {query} Context: {retrieved_item['description']}.\"\n",
    "        inputs = tokenizer.encode(input_text, return_tensors=\"pt\", max_length=512, truncation=True)\n",
    "        outputs = model.generate(inputs, max_length=50, num_beams=5, early_stopping=True)\n",
    "        response = tokenizer.decode(outputs[0], skip_special_tokens=True)\n",
    "    return response"
   ]
  },
  {
   "cell_type": "markdown",
   "metadata": {},
   "source": [
    "# First"
   ]
  },
  {
   "cell_type": "code",
   "execution_count": 15,
   "metadata": {},
   "outputs": [
    {
     "name": "stdout",
     "output_type": "stream",
     "text": [
      "{\n",
      "    \"intent\": \"classify intent: Kids-friendly food recommendation\",\n",
      "    \"response\": \"Here are some kids-friendly dishes: South Indian Thali, Keerai Vadai, Saamai (Little) Millet, Special Mixture, Thattai, Adai Aviyal, Mysore Rava Dosai, Podi Dosai, Dal Makhani.\"\n",
      "}\n"
     ]
    }
   ],
   "source": [
    "### Main Flow ###\n",
    "input_json = '''\n",
    "{\n",
    "    \"query\": \"Kids-friendly food recommendation\"\n",
    "}\n",
    "'''\n",
    "\n",
    "# Parse input JSON\n",
    "input_data = json.loads(input_json)\n",
    "query = input_data['query']\n",
    "\n",
    "# Classify the intent using T5\n",
    "intent = classify_intent_with_t5(query)\n",
    "\n",
    "# Generate the response based on the query\n",
    "response = generate_response_with_t5(query)\n",
    "\n",
    "# Output the result in JSON format\n",
    "output_json = {\n",
    "    'intent': intent,\n",
    "    \"response\": response\n",
    "}\n",
    "\n",
    "# Print the output in JSON format\n",
    "output = json.dumps(output_json, indent=4)\n",
    "print(output)"
   ]
  },
  {
   "cell_type": "markdown",
   "metadata": {},
   "source": [
    "# Second"
   ]
  },
  {
   "cell_type": "code",
   "execution_count": 11,
   "metadata": {},
   "outputs": [
    {
     "name": "stdout",
     "output_type": "stream",
     "text": [
      "{\n",
      "    \"intent\": \"Price of Dal Makhani\",\n",
      "    \"response\": \"The price of Dal Makhani is $13.99.\"\n",
      "}\n"
     ]
    }
   ],
   "source": [
    "### Main Flow ###\n",
    "input_json = '''\n",
    "{\n",
    "    \"query\": \"Price of Dal Makhani\"\n",
    "}\n",
    "'''\n",
    "\n",
    "# Parse input JSON\n",
    "input_data = json.loads(input_json)\n",
    "query = input_data['query']\n",
    "\n",
    "# Classify the intent using T5\n",
    "intent = classify_intent_with_t5(query)\n",
    "\n",
    "# Generate the response based on the query\n",
    "response = generate_response_with_t5(query)\n",
    "\n",
    "# Output the result in JSON format\n",
    "output_json = {\n",
    "    'intent': intent,\n",
    "    \"response\": response\n",
    "}\n",
    "\n",
    "# Print the output in JSON format\n",
    "output = json.dumps(output_json, indent=4)\n",
    "print(output)"
   ]
  },
  {
   "cell_type": "markdown",
   "metadata": {},
   "source": [
    "# Third"
   ]
  },
  {
   "cell_type": "code",
   "execution_count": 16,
   "metadata": {},
   "outputs": [
    {
     "name": "stdout",
     "output_type": "stream",
     "text": [
      "{\n",
      "    \"intent\": \"classify intent: Vegan dish recommendation?\",\n",
      "    \"response\": \"Here are some vegan dishes: Keerai Vadai, Saamai (Little) Millet, Thattai, Kambu (Pearl) Millet Dosai, Small Onion Uthappam, Pongal Vadai, Palak Paneer, Mushroom Chilli Fries, Paneer Khurchan, Idiyappam, South Indian Rush Lunch.\"\n",
      "}\n"
     ]
    }
   ],
   "source": [
    "### Main Flow ###\n",
    "input_json = '''\n",
    "{\n",
    "    \"query\": \"Vegan dish recommendation?\"\n",
    "}\n",
    "'''\n",
    "\n",
    "# Parse input JSON\n",
    "input_data = json.loads(input_json)\n",
    "query = input_data['query']\n",
    "\n",
    "# Classify the intent using T5\n",
    "intent = classify_intent_with_t5(query)\n",
    "\n",
    "# Generate the response based on the query\n",
    "response = generate_response_with_t5(query)\n",
    "\n",
    "# Output the result in JSON format\n",
    "output_json = {\n",
    "    'intent': intent,\n",
    "    \"response\": response\n",
    "}\n",
    "\n",
    "# Print the output in JSON format\n",
    "output = json.dumps(output_json, indent=4)\n",
    "print(output)"
   ]
  },
  {
   "cell_type": "markdown",
   "metadata": {},
   "source": [
    "# Fourth"
   ]
  },
  {
   "cell_type": "code",
   "execution_count": 20,
   "metadata": {},
   "outputs": [
    {
     "name": "stdout",
     "output_type": "stream",
     "text": [
      "{\n",
      "    \"intent\": \": Which A2B combos dish takes least prep time?\",\n",
      "    \"response\": \"Context: Protein packed dish made with famous rajasthani panchratana dal..\"\n",
      "}\n"
     ]
    }
   ],
   "source": [
    "### Main Flow ###\n",
    "input_json = '''\n",
    "{\n",
    "    \"query\": \"Which A2B combos dish takes least prep-time?\"\n",
    "}\n",
    "'''\n",
    "\n",
    "# Parse input JSON\n",
    "input_data = json.loads(input_json)\n",
    "query = input_data['query']\n",
    "\n",
    "# Classify the intent using T5\n",
    "intent = classify_intent_with_t5(query)\n",
    "\n",
    "# Generate the response based on the query\n",
    "response = generate_response_with_t5(query)\n",
    "\n",
    "# Output the result in JSON format\n",
    "output_json = {\n",
    "    'intent': intent,\n",
    "    \"response\": response\n",
    "}\n",
    "\n",
    "# Print the output in JSON format\n",
    "output = json.dumps(output_json, indent=4)\n",
    "print(output)"
   ]
  },
  {
   "cell_type": "markdown",
   "metadata": {},
   "source": [
    "# Fifth"
   ]
  },
  {
   "cell_type": "code",
   "execution_count": 21,
   "metadata": {},
   "outputs": [
    {
     "name": "stdout",
     "output_type": "stream",
     "text": [
      "{\n",
      "    \"intent\": \"\",\n",
      "    \"response\": \"Here are some spicy dishes suitable for fever: Adai Aviyal, Mysore Rava Dosai, Mysore Masala Dosai, Hot & Sour Veg Soup, Mysore Rava Masala Dosai, Chole Bhature, Rasam, Impossible Schezwan Fried Rice, Mushroom Chettinad.\"\n",
      "}\n"
     ]
    }
   ],
   "source": [
    "### Main Flow ###\n",
    "input_json = '''\n",
    "{\n",
    "    \"query\": \"Which A2B combos dish takes least prep-time?\"\n",
    "}\n",
    "'''\n",
    "\n",
    "# Parse input JSON\n",
    "input_data = json.loads(input_json)\n",
    "query = input_data['query']\n",
    "\n",
    "# Classify the intent using T5\n",
    "intent = classify_intent_with_t5(query)\n",
    "\n",
    "# Generate the response based on the query\n",
    "response = generate_response_with_t5(query)\n",
    "\n",
    "# Output the result in JSON format\n",
    "output_json = {\n",
    "    'intent': intent,\n",
    "    \"response\": response\n",
    "}\n",
    "\n",
    "# Print the output in JSON format\n",
    "output = json.dumps(output_json, indent=4)\n",
    "print(output)"
   ]
  },
  {
   "cell_type": "markdown",
   "metadata": {},
   "source": [
    "# Sixth"
   ]
  },
  {
   "cell_type": "code",
   "execution_count": 22,
   "metadata": {},
   "outputs": [
    {
     "name": "stdout",
     "output_type": "stream",
     "text": [
      "{\n",
      "    \"intent\": \"Klassify intent: nut free dishes?\",\n",
      "    \"response\": \"Context: A healthy breakfast option made with semolina and vegetables lightly tempered with spices cooked to perfection.\"\n",
      "}\n"
     ]
    }
   ],
   "source": [
    "### Main Flow ###\n",
    "input_json = '''\n",
    "{\n",
    "    \"query\": \"nut free dishes?\"\n",
    "}\n",
    "'''\n",
    "\n",
    "# Parse input JSON\n",
    "input_data = json.loads(input_json)\n",
    "query = input_data['query']\n",
    "\n",
    "# Classify the intent using T5\n",
    "intent = classify_intent_with_t5(query)\n",
    "\n",
    "# Generate the response based on the query\n",
    "response = generate_response_with_t5(query)\n",
    "\n",
    "# Output the result in JSON format\n",
    "output_json = {\n",
    "    'intent': intent,\n",
    "    \"response\": response\n",
    "}\n",
    "\n",
    "# Print the output in JSON format\n",
    "output = json.dumps(output_json, indent=4)\n",
    "print(output)"
   ]
  }
 ],
 "metadata": {
  "kernelspec": {
   "display_name": "Python 3",
   "language": "python",
   "name": "python3"
  },
  "language_info": {
   "codemirror_mode": {
    "name": "ipython",
    "version": 3
   },
   "file_extension": ".py",
   "mimetype": "text/x-python",
   "name": "python",
   "nbconvert_exporter": "python",
   "pygments_lexer": "ipython3",
   "version": "3.12.6"
  }
 },
 "nbformat": 4,
 "nbformat_minor": 2
}
